{
 "cells": [
  {
   "cell_type": "code",
   "execution_count": 1,
   "id": "5d0eb57a-c10a-4fef-a18f-ce21fea1612a",
   "metadata": {},
   "outputs": [],
   "source": [
    "from collections import defaultdict"
   ]
  },
  {
   "cell_type": "code",
   "execution_count": 2,
   "id": "c8053b47-b6b0-4456-9b62-df9a75ce1f8f",
   "metadata": {},
   "outputs": [],
   "source": [
    "best_hits = defaultdict(dict)"
   ]
  },
  {
   "cell_type": "code",
   "execution_count": 3,
   "id": "68e3b565-7b96-4017-a381-12b7ccf0ab3c",
   "metadata": {
    "scrolled": true
   },
   "outputs": [],
   "source": [
    "with open(\"DMND_BlastP.tsv\", 'r') as f_in:\n",
    "    for line in f_in:\n",
    "        qseq_id, sseq_id = line.split()[:2]\n",
    "        qseq_name, sseq_name = qseq_id.rsplit(\"_\", 1)[0], sseq_id.rsplit(\"_\", 1)[0]\n",
    "        best_hits[qseq_id][sseq_name] = sseq_id"
   ]
  },
  {
   "cell_type": "code",
   "execution_count": 4,
   "id": "b107957b-1b54-4371-8d1a-3338c14dd1ff",
   "metadata": {},
   "outputs": [],
   "source": [
    "with open(\"DMND_BlastP.tsv\", 'r') as f_in, open(\"RBH.tsv\", 'w') as f_out:\n",
    "    for line in f_in:\n",
    "        qseq_id, sseq_id = line.split()[:2]\n",
    "        qseq_name, sseq_name = qseq_id.rsplit(\"_\", 1)[0], sseq_id.rsplit(\"_\", 1)[0]\n",
    "        if (qseq_name in best_hits[sseq_id]) and (best_hits[sseq_id][qseq_name] == qseq_id):\n",
    "            f_out.write(line)"
   ]
  }
 ],
 "metadata": {
  "kernelspec": {
   "display_name": "Python 3 (ipykernel)",
   "language": "python",
   "name": "python3"
  },
  "language_info": {
   "codemirror_mode": {
    "name": "ipython",
    "version": 3
   },
   "file_extension": ".py",
   "mimetype": "text/x-python",
   "name": "python",
   "nbconvert_exporter": "python",
   "pygments_lexer": "ipython3",
   "version": "3.9.23"
  }
 },
 "nbformat": 4,
 "nbformat_minor": 5
}
