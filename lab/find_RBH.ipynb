{
 "cells": [
  {
   "cell_type": "code",
   "execution_count": 1,
   "id": "5d0eb57a-c10a-4fef-a18f-ce21fea1612a",
   "metadata": {},
   "outputs": [],
   "source": [
    "from collections import defaultdict"
   ]
  },
  {
   "cell_type": "code",
   "execution_count": 1,
   "id": "bad0ae52-51ef-4fb7-98d9-099fc1b1d646",
   "metadata": {},
   "outputs": [],
   "source": [
    "def find_RBH(file_in, file_out):\n",
    "    best_hits = defaultdict(dict)\n",
    "    with open(file_in, 'r') as f_in:\n",
    "        for line in f_in:\n",
    "            qseq_id, sseq_id = line.split()[:2]\n",
    "            qseq_name, sseq_name = qseq_id.rsplit(\"_\", 1)[0], sseq_id.rsplit(\"_\", 1)[0]\n",
    "            if qseq_name != sseq_name:\n",
    "                best_hits[qseq_id][sseq_name] = sseq_id\n",
    "    with open(file_in, 'r') as f_in, open(file_out, 'w') as f_out:\n",
    "        for line in f_in:\n",
    "            qseq_id, sseq_id = line.split()[:2]\n",
    "            qseq_name, sseq_name = qseq_id.rsplit(\"_\", 1)[0], sseq_id.rsplit(\"_\", 1)[0]\n",
    "            if (qseq_name in best_hits[sseq_id]) and (best_hits[sseq_id][qseq_name] == qseq_id):\n",
    "                f_out.write(line)"
   ]
  }
 ],
 "metadata": {
  "kernelspec": {
   "display_name": "Python 3 (ipykernel)",
   "language": "python",
   "name": "python3"
  },
  "language_info": {
   "codemirror_mode": {
    "name": "ipython",
    "version": 3
   },
   "file_extension": ".py",
   "mimetype": "text/x-python",
   "name": "python",
   "nbconvert_exporter": "python",
   "pygments_lexer": "ipython3",
   "version": "3.9.23"
  }
 },
 "nbformat": 4,
 "nbformat_minor": 5
}
