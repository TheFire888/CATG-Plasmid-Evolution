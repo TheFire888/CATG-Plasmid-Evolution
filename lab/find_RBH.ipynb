{
 "cells": [
  {
   "cell_type": "code",
   "execution_count": 1,
   "id": "5d0eb57a-c10a-4fef-a18f-ce21fea1612a",
   "metadata": {},
   "outputs": [],
   "source": [
    "from collections import defaultdict\n",
    "import sys\n",
    "import click\n",
    "from file_read_backwards import FileReadBackwards"
   ]
  },
  {
   "cell_type": "code",
   "execution_count": 12,
   "id": "318c42b0-0cd1-4fd5-adc1-e32c0dd3671d",
   "metadata": {},
   "outputs": [],
   "source": [
    "def find_RBH(input_file, output_file, min_cov):\n",
    "    best_hits = defaultdict(dict)\n",
    "    with FileReadBackwards(input_file, encoding=\"utf-8\") as f_in:\n",
    "        for line in f_in:\n",
    "            qseq_gene_id, sseq_gene_id = line.split()[:2]\n",
    "            qseq_contig, sseq_contig = qseq_gene_id.rsplit(\"_\", 1)[0], sseq_gene_id.rsplit(\"_\", 1)[0]\n",
    "            if qseq_contig != sseq_contig:\n",
    "                best_hits[qseq_gene_id][sseq_contig] = sseq_gene_id\n",
    "    print(best_hits.items())\n",
    "    with FileReadBackwards(input_file, encoding=\"utf-8\") as f_in, open(output_file, 'w') as f_out:\n",
    "        for line in f_in:\n",
    "            qseq_gene_id, sseq_gene_id = line.split()[:2]\n",
    "            qseq_contig, sseq_contig = qseq_gene_id.rsplit(\"_\", 1)[0], sseq_gene_id.rsplit(\"_\", 1)[0]\n",
    "            if (qseq_contig in best_hits[sseq_gene_id]) and (best_hits[sseq_gene_id][qseq_contig] == qseq_gene_id):\n",
    "                f_out.write(line)"
   ]
  }
 ],
 "metadata": {
  "kernelspec": {
   "display_name": "Python 3 (ipykernel)",
   "language": "python",
   "name": "python3"
  },
  "language_info": {
   "codemirror_mode": {
    "name": "ipython",
    "version": 3
   },
   "file_extension": ".py",
   "mimetype": "text/x-python",
   "name": "python",
   "nbconvert_exporter": "python",
   "pygments_lexer": "ipython3",
   "version": "3.9.23"
  }
 },
 "nbformat": 4,
 "nbformat_minor": 5
}
