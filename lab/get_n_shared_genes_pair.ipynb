{
 "cells": [
  {
   "cell_type": "code",
   "execution_count": 1,
   "id": "53db30c8-210c-4317-a9b5-0858dabb13ac",
   "metadata": {},
   "outputs": [],
   "source": [
    "import polars as pl"
   ]
  },
  {
   "cell_type": "code",
   "execution_count": null,
   "id": "eaa8b06a-f3a6-43eb-86be-91f5c0086a9d",
   "metadata": {},
   "outputs": [],
   "source": [
    "df = (\n",
    "    pl.scan_csv(\n",
    "        \"../test/filtered_DMBD_BlastP.tsv.gz\",\n",
    "        separator=\"\\t\",\n",
    "        has_header=False,\n",
    "        new_columns=[\"query_gene\", \"target_gene\", \"identity\", \"bitscore\"],\n",
    "    )\n",
    "    .with_columns(\n",
    "        query_genome=pl.col(\"query_gene\").str.replace(r\"_\\d+$\", \"\"),\n",
    "        target_genome=pl.col(\"target_gene\").str.replace(r\"_\\d+$\", \"\"),\n",
    "    )\n",
    "    .filter(\n",
    "        pl.col(\"query_genome\") != pl.col(\"target_genome\"),\n",
    "        pl.col(\"query_gene\") != pl.col(\"target_gene\"),\n",
    "    )\n",
    "    .group_by(\n",
    "        pl.concat_arr(pl.col(\"query_genome\"), pl.col(\"target_genome\"))\n",
    "        .arr.sort()\n",
    "        .arr.to_struct([\"genome_1\", \"genome_2\"])\n",
    "        .alias(\"genome_pair\")\n",
    "    )\n",
    "    .agg(pl.len().alias(\"n_shared_genes\"))\n",
    "    .unnest(\"genome_pair\")\n",
    "    .collect(engine=\"streaming\")\n",
    ")"
   ]
  },
  {
   "cell_type": "code",
   "execution_count": null,
   "id": "0f336dd5-b370-47ca-9380-ff0825d2c149",
   "metadata": {},
   "outputs": [],
   "source": [
    "df.head()"
   ]
  },
  {
   "cell_type": "code",
   "execution_count": null,
   "id": "636e3a09-5c79-4270-a5d8-fdba73b2e229",
   "metadata": {},
   "outputs": [],
   "source": [
    "df.write_csv(\"n_shared_genes_pairs.tsv\", separator=\"\\t\")"
   ]
  }
 ],
 "metadata": {
  "kernelspec": {
   "display_name": "Python 3 (ipykernel)",
   "language": "python",
   "name": "python3"
  },
  "language_info": {
   "codemirror_mode": {
    "name": "ipython",
    "version": 3
   },
   "file_extension": ".py",
   "mimetype": "text/x-python",
   "name": "python",
   "nbconvert_exporter": "python",
   "pygments_lexer": "ipython3",
   "version": "3.9.23"
  }
 },
 "nbformat": 4,
 "nbformat_minor": 5
}
