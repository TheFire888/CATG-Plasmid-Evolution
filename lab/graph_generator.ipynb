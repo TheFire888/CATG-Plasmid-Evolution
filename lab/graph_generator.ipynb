{
 "cells": [
  {
   "cell_type": "code",
   "execution_count": 1,
   "id": "6834d9a4-291c-442f-b22b-f4751ffed870",
   "metadata": {},
   "outputs": [],
   "source": [
    "import igraph as ig\n",
    "import matplotlib.pyplot as plt"
   ]
  },
  {
   "cell_type": "code",
   "execution_count": 30,
   "id": "343ca17b-931f-4c51-b7c2-e89a182561fd",
   "metadata": {},
   "outputs": [],
   "source": [
    "def generate_graph(input_file):\n",
    "    graph = ig.Graph.Load(input_file, format=\"ncol\")\n",
    "    graph.to_undirected(mode=\"each\")\n",
    "    return graph"
   ]
  },
  {
   "cell_type": "code",
   "execution_count": 43,
   "id": "4a545ebd-b2e2-44d1-a4df-823ea0fc4482",
   "metadata": {},
   "outputs": [],
   "source": [
    "g = generate_graph(\"teste.txt\")"
   ]
  }
 ],
 "metadata": {
  "kernelspec": {
   "display_name": "Python 3 (ipykernel)",
   "language": "python",
   "name": "python3"
  },
  "language_info": {
   "codemirror_mode": {
    "name": "ipython",
    "version": 3
   },
   "file_extension": ".py",
   "mimetype": "text/x-python",
   "name": "python",
   "nbconvert_exporter": "python",
   "pygments_lexer": "ipython3",
   "version": "3.9.23"
  }
 },
 "nbformat": 4,
 "nbformat_minor": 5
}
