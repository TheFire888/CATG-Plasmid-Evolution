{
 "cells": [
  {
   "cell_type": "code",
   "execution_count": 1,
   "id": "4f6fa57b-b8e5-46c7-84b5-54b43be951a5",
   "metadata": {},
   "outputs": [],
   "source": [
    "from itertools import combinations\n",
    "from collections import defaultdict\n",
    "from multiprocessing.pool import ThreadPool\n",
    "from functools import partial\n",
    "import sys"
   ]
  },
  {
   "cell_type": "code",
   "execution_count": 2,
   "id": "3da5768e-3e6b-4d29-b267-ebe5b9bb9811",
   "metadata": {},
   "outputs": [],
   "source": [
    "def calculate_wgrr(gene_counts, pair):\n",
    "    (p_u, p_v), total_identity = pair\n",
    "    count_u, count_v = gene_counts.get(p_u), gene_counts.get(p_v)\n",
    "    min_genes = min(count_u, count_v)\n",
    "    wgrr = total_identity / min_genes\n",
    "\n",
    "    return [p_u, p_v, wgrr]"
   ]
  },
  {
   "cell_type": "code",
   "execution_count": 1,
   "id": "1b823666-7118-4364-ad05-91b1252e781b",
   "metadata": {},
   "outputs": [],
   "source": [
    "def process_wgrr(rbh_file, count_file, file_out):\n",
    "    with open(count_file, 'r') as count_f:\n",
    "        gene_counts = {line.split()[0]: int(line.split()[1]) for line in count_f}\n",
    "    \n",
    "    sum_hits = defaultdict(float)\n",
    "    with open(rbh_file, 'r') as rbh_f:\n",
    "        for line in rbh_f:\n",
    "            parts = line.split()[:3]\n",
    "            qseq_id, sseq_id, identity = parts[0], parts[1], float(parts[2])\n",
    "            p_u, p_v = qseq_id.rsplit(\"_\", 1)[0], sseq_id.rsplit(\"_\", 1)[0]\n",
    "            pair_key = tuple(sorted((p_u, p_v)))\n",
    "            sum_hits[pair_key] += identity\n",
    "\n",
    "    calculate_wgrr_counted = partial(calculate_wgrr, gene_counts)\n",
    "    with open(file_out, 'w') as f_out, ThreadPool() as pool:\n",
    "        results = pool.imap(calculate_wgrr_counted, sum_hits.items())\n",
    "        for row in results:\n",
    "            f_out.write(f\"{row[0]}\\t{row[1]}\\t{row[2]}\\n\")"
   ]
  }
 ],
 "metadata": {
  "kernelspec": {
   "display_name": "Python 3 (ipykernel)",
   "language": "python",
   "name": "python3"
  },
  "language_info": {
   "codemirror_mode": {
    "name": "ipython",
    "version": 3
   },
   "file_extension": ".py",
   "mimetype": "text/x-python",
   "name": "python",
   "nbconvert_exporter": "python",
   "pygments_lexer": "ipython3",
   "version": "3.9.23"
  }
 },
 "nbformat": 4,
 "nbformat_minor": 5
}
