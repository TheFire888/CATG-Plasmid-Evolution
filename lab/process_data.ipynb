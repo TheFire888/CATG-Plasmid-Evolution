{
 "cells": [
  {
   "cell_type": "code",
   "execution_count": 3,
   "id": "4f6fa57b-b8e5-46c7-84b5-54b43be951a5",
   "metadata": {},
   "outputs": [],
   "source": [
    "from itertools import combinations\n",
    "from collections import defaultdict\n",
    "import sys"
   ]
  },
  {
   "cell_type": "code",
   "execution_count": null,
   "id": "1b823666-7118-4364-ad05-91b1252e781b",
   "metadata": {},
   "outputs": [],
   "source": [
    "def process_wgrr(rbh_file, count_file, f_out):\n",
    "    sum_hits = defaultdict(float)"
   ]
  }
 ],
 "metadata": {
  "kernelspec": {
   "display_name": "Python 3 (ipykernel)",
   "language": "python",
   "name": "python3"
  },
  "language_info": {
   "codemirror_mode": {
    "name": "ipython",
    "version": 3
   },
   "file_extension": ".py",
   "mimetype": "text/x-python",
   "name": "python",
   "nbconvert_exporter": "python",
   "pygments_lexer": "ipython3",
   "version": "3.9.23"
  }
 },
 "nbformat": 4,
 "nbformat_minor": 5
}
