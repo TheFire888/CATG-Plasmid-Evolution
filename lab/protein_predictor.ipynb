{
 "cells": [
  {
   "cell_type": "code",
   "execution_count": 1,
   "id": "09f42e92-c9b3-4951-942a-d04b1728ff65",
   "metadata": {},
   "outputs": [],
   "source": [
    "from multiprocessing.pool import ThreadPool\n",
    "from pyrodigal import GeneFinder\n",
    "#from needletail import parse_fastx_file\n",
    "import Bio.SeqIO"
   ]
  },
  {
   "cell_type": "code",
   "execution_count": 2,
   "id": "5e09cfba-861c-4048-af3f-338af70041c7",
   "metadata": {},
   "outputs": [],
   "source": [
    "record = (r for r in Bio.SeqIO.parse(\"tmp_plasmid_seqs.fna\", \"fasta\"))\n",
    "gene_finder = GeneFinder(meta=True)"
   ]
  },
  {
   "cell_type": "code",
   "execution_count": 3,
   "id": "5c8a7da2-dc91-409e-8f63-f32ee5cfba71",
   "metadata": {},
   "outputs": [],
   "source": [
    "with open(\"tmp_proteins.faa\", 'w') as f_out:\n",
    "    def translate_genes(record):\n",
    "        genes = gene_finder.find_genes(bytes(record.seq))\n",
    "        for i, pred in enumerate(genes):\n",
    "            f_out.write(f\">{record.id}_{i+1}\" + \"\\n\")\n",
    "            f_out.write(pred.translate() + \"\\n\")\n",
    "    with ThreadPool() as pool:\n",
    "        pool.map(translate_genes, record)"
   ]
  }
 ],
 "metadata": {
  "kernelspec": {
   "display_name": "Python 3 (ipykernel)",
   "language": "python",
   "name": "python3"
  },
  "language_info": {
   "codemirror_mode": {
    "name": "ipython",
    "version": 3
   },
   "file_extension": ".py",
   "mimetype": "text/x-python",
   "name": "python",
   "nbconvert_exporter": "python",
   "pygments_lexer": "ipython3",
   "version": "3.9.23"
  }
 },
 "nbformat": 4,
 "nbformat_minor": 5
}
