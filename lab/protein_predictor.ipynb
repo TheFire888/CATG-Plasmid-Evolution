{
 "cells": [
  {
   "cell_type": "code",
   "execution_count": 1,
   "id": "09f42e92-c9b3-4951-942a-d04b1728ff65",
   "metadata": {},
   "outputs": [],
   "source": [
    "from multiprocessing.pool import ThreadPool\n",
    "from pyrodigal import GeneFinder\n",
    "import Bio.SeqIO\n",
    "import sys"
   ]
  },
  {
   "cell_type": "code",
   "execution_count": 2,
   "id": "17e1b1f8-de18-4f08-ad66-9deafde37b32",
   "metadata": {},
   "outputs": [],
   "source": [
    "def find_genes(seq):\n",
    "    return (seq.id, GeneFinder(meta=True).find_genes(bytes(seq.seq)))"
   ]
  },
  {
   "cell_type": "code",
   "execution_count": 3,
   "id": "19d74d1a-4539-498d-b0d2-f1294c08692f",
   "metadata": {},
   "outputs": [],
   "source": [
    "def translate_genes(input_seqs, f_out):\n",
    "    with (\n",
    "            ThreadPool() as pool,\n",
    "            open(f_out, \"w\") as f_out\n",
    "        ):\n",
    "        for seq_id, pred_genes in pool.imap(find_genes, input_seqs):\n",
    "            for gene_id, gene in enumerate(pred_genes):\n",
    "                f_out.write(f\">{seq_id}_{gene_id}\" + \"\\n\")\n",
    "                f_out.write(gene.translate() + \"\\n\")"
   ]
  }
 ],
 "metadata": {
  "kernelspec": {
   "display_name": "Python 3 (ipykernel)",
   "language": "python",
   "name": "python3"
  },
  "language_info": {
   "codemirror_mode": {
    "name": "ipython",
    "version": 3
   },
   "file_extension": ".py",
   "mimetype": "text/x-python",
   "name": "python",
   "nbconvert_exporter": "python",
   "pygments_lexer": "ipython3",
   "version": "3.9.23"
  }
 },
 "nbformat": 4,
 "nbformat_minor": 5
}
