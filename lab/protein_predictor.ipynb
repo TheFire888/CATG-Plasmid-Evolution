{
 "cells": [
  {
   "cell_type": "code",
   "execution_count": 6,
   "id": "09f42e92-c9b3-4951-942a-d04b1728ff65",
   "metadata": {},
   "outputs": [],
   "source": [
    "from multiprocessing.pool import ThreadPool\n",
    "from pyrodigal import GeneFinder\n",
    "#from needletail import parse_fastx_file\n",
    "import Bio.SeqIO\n",
    "#import click\n",
    "import sys"
   ]
  },
  {
   "cell_type": "code",
   "execution_count": 2,
   "id": "17e1b1f8-de18-4f08-ad66-9deafde37b32",
   "metadata": {},
   "outputs": [],
   "source": [
    "def find_genes(seq):\n",
    "    return (seq.id, GeneFinder(meta=True).find_genes(bytes(seq.seq)))"
   ]
  },
  {
   "cell_type": "code",
   "execution_count": 3,
   "id": "19d74d1a-4539-498d-b0d2-f1294c08692f",
   "metadata": {},
   "outputs": [],
   "source": [
    "def translate_genes(input_seqs, f_out):\n",
    "    with (\n",
    "            ThreadPool() as pool,\n",
    "            open(f_out, \"w\") as f_out\n",
    "        ):\n",
    "        for seq_id, pred_genes in pool.imap(find_genes, input_seqs):\n",
    "            for gene_id, gene in enumerate(pred_genes):\n",
    "                f_out.write(f\">{seq_id}_{gene_id}\" + \"\\n\")\n",
    "                f_out.write(gene.translate() + \"\\n\")"
   ]
  },
  {
   "cell_type": "code",
   "execution_count": 9,
   "id": "ddb4f5e5-3256-4361-a91f-dee007eae0a4",
   "metadata": {
    "scrolled": true
   },
   "outputs": [],
   "source": [
    "#if __name__ == \"__main__\":\n",
    "#    f_in = sys.argv[1]\n",
    "#    f_out = sys.argv[2]\n",
    "#    input_seqs = Bio.SeqIO.parse(f_in, \"fasta\")\n",
    "#    translate_genes(input_seqs, f_out)"
   ]
  },
  {
   "cell_type": "code",
   "execution_count": 4,
   "id": "93886f27-ada9-4e75-8098-8346528c05ee",
   "metadata": {},
   "outputs": [],
   "source": [
    "@click.command()\n",
    "@click.argument(\"f_in\", type=click.File(\"rb\"))\n",
    "@click.argument(\"f_out\", type=click.File(\"wb\"))\n",
    "def cli(f_in, f_out):\n",
    "    input_seqs = Bio.SeqIO.parse(f_in, \"fasta\")\n",
    "    translate_genes(input_seqs, f_out)"
   ]
  }
 ],
 "metadata": {
  "kernelspec": {
   "display_name": "Python 3 (ipykernel)",
   "language": "python",
   "name": "python3"
  },
  "language_info": {
   "codemirror_mode": {
    "name": "ipython",
    "version": 3
   },
   "file_extension": ".py",
   "mimetype": "text/x-python",
   "name": "python",
   "nbconvert_exporter": "python",
   "pygments_lexer": "ipython3",
   "version": "3.9.23"
  }
 },
 "nbformat": 4,
 "nbformat_minor": 5
}
