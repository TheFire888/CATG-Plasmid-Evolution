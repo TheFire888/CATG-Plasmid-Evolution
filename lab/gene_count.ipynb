{
 "cells": [
  {
   "cell_type": "code",
   "execution_count": 1,
   "id": "13e17f57-f097-4fc0-8b69-c4c6d88466e8",
   "metadata": {},
   "outputs": [],
   "source": [
    "from collections import defaultdict"
   ]
  },
  {
   "cell_type": "code",
   "execution_count": 2,
   "id": "34ce7c1b-e660-4c81-a303-babc89e5dda7",
   "metadata": {
    "scrolled": true
   },
   "outputs": [],
   "source": [
    "max_genes = defaultdict(int)\n",
    "with open(\"tmp_proteins.faa\", 'r') as f_in:\n",
    "    for line in f_in:\n",
    "        if line.startswith(\">\"):\n",
    "            l = line.rsplit(\"_\", 1)\n",
    "            plasmid = l[0]\n",
    "            gene_id = int(l[1])\n",
    "            if max_genes[plasmid] < gene_id:\n",
    "                max_genes[plasmid] = gene_id"
   ]
  },
  {
   "cell_type": "code",
   "execution_count": 6,
   "id": "46a3e212-0b4e-46b8-bfca-a3874ad5115f",
   "metadata": {},
   "outputs": [],
   "source": [
    "with open(\"gene_count.tsv\", 'w') as f_out:\n",
    "    for plasmid, max_id in max_genes.items():\n",
    "        f_out.write(f\"{plasmid} \\t {max_id} \\n\")"
   ]
  }
 ],
 "metadata": {
  "kernelspec": {
   "display_name": "Python 3 (ipykernel)",
   "language": "python",
   "name": "python3"
  },
  "language_info": {
   "codemirror_mode": {
    "name": "ipython",
    "version": 3
   },
   "file_extension": ".py",
   "mimetype": "text/x-python",
   "name": "python",
   "nbconvert_exporter": "python",
   "pygments_lexer": "ipython3",
   "version": "3.9.23"
  }
 },
 "nbformat": 4,
 "nbformat_minor": 5
}
